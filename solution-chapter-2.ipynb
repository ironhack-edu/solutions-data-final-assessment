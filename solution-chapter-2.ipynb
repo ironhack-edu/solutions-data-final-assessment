{
 "cells": [
  {
   "cell_type": "markdown",
   "metadata": {},
   "source": [
    "## 1"
   ]
  },
  {
   "cell_type": "code",
   "execution_count": 2,
   "metadata": {},
   "outputs": [],
   "source": [
    "ratio_disney= 28/441\n",
    "ratio_pp= 57/3599\n",
    "ratio_wb=77/2843\n",
    "ratio_up= 73/3474"
   ]
  },
  {
   "cell_type": "code",
   "execution_count": 6,
   "metadata": {},
   "outputs": [
    {
     "name": "stdout",
     "output_type": "stream",
     "text": [
      "Disney: 0.06349206349206349\n",
      "PP: 0.015837732703528756\n",
      "WB: 0.027084066127330286\n",
      "UP: 0.021013241220495107\n"
     ]
    }
   ],
   "source": [
    "print('Disney:',ratio_disney)\n",
    "print('PP:',ratio_pp)\n",
    "print('WB:',ratio_wb)\n",
    "print('UP:',ratio_up)"
   ]
  }
 ],
 "metadata": {
  "kernelspec": {
   "display_name": "Python 3",
   "language": "python",
   "name": "python3"
  },
  "language_info": {
   "codemirror_mode": {
    "name": "ipython",
    "version": 3
   },
   "file_extension": ".py",
   "mimetype": "text/x-python",
   "name": "python",
   "nbconvert_exporter": "python",
   "pygments_lexer": "ipython3",
   "version": "3.7.4"
  }
 },
 "nbformat": 4,
 "nbformat_minor": 2
}
