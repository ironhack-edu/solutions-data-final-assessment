{
 "cells": [
  {
   "cell_type": "markdown",
   "metadata": {},
   "source": [
    "In this problem we need to find a way to transform the date from relative into absolute format. "
   ]
  },
  {
   "cell_type": "markdown",
   "metadata": {},
   "source": [
    "We can use `re` library to parse the required information (number and units) and `datetime` library to convert date into datetime format. "
   ]
  },
  {
   "cell_type": "code",
   "execution_count": 1,
   "metadata": {},
   "outputs": [],
   "source": [
    "from datetime import datetime, timedelta #datetime format and timedelta to calculate the distance to substract\n",
    "import re\n",
    "\n",
    "def autocorrect(x:str) -> str:\n",
    "    #dlt is a number with any number of digits, period is a text between number and 'ago'\n",
    "    dlt, period=re.findall(r'(\\d+) (.*?) ago',x)[0] \n",
    "    dlt=int(dlt)  #convert from str to int\n",
    "    period=period.rstrip('s')+'s' #according to documentation of timedelta, period is specified as argument in plural form.\n",
    "    \n",
    "    #from current datetime we substract the timedelta. In order to generalize the solution I decided to use eval function that \n",
    "    #evaluates the text as a python command. That allows us to use period as variable argument for timedelta function.\n",
    "    #Finally we convert the datetime output into string of specified format.\n",
    "    return (datetime.now()-eval('timedelta('+eval('period')+'=dlt)')).strftime('%d/%m/%Y') "
   ]
  },
  {
   "cell_type": "code",
   "execution_count": 4,
   "metadata": {},
   "outputs": [
    {
     "data": {
      "text/plain": [
       "'18/03/2021'"
      ]
     },
     "execution_count": 4,
     "metadata": {},
     "output_type": "execute_result"
    }
   ],
   "source": [
    "datetime.now().strftime('%d/%m/%Y') "
   ]
  },
  {
   "cell_type": "code",
   "execution_count": 2,
   "metadata": {},
   "outputs": [
    {
     "data": {
      "text/plain": [
       "'14/03/2021'"
      ]
     },
     "execution_count": 2,
     "metadata": {},
     "output_type": "execute_result"
    }
   ],
   "source": [
    "autocorrect('4 days ago')"
   ]
  },
  {
   "cell_type": "code",
   "execution_count": null,
   "metadata": {},
   "outputs": [],
   "source": []
  }
 ],
 "metadata": {
  "kernelspec": {
   "display_name": "Python 3",
   "language": "python",
   "name": "python3"
  },
  "language_info": {
   "codemirror_mode": {
    "name": "ipython",
    "version": 3
   },
   "file_extension": ".py",
   "mimetype": "text/x-python",
   "name": "python",
   "nbconvert_exporter": "python",
   "pygments_lexer": "ipython3",
   "version": "3.8.5"
  }
 },
 "nbformat": 4,
 "nbformat_minor": 4
}
